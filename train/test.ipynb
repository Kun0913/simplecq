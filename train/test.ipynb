{
 "cells": [
  {
   "cell_type": "code",
   "execution_count": 1,
   "metadata": {},
   "outputs": [],
   "source": [
    "import math\n",
    "import random\n",
    "import socket\n",
    "import time\n",
    "from collections import deque, namedtuple\n",
    "from itertools import count\n",
    "\n",
    "import matplotlib\n",
    "import matplotlib.pyplot as plt\n",
    "import nashpy as nash\n",
    "import numpy as np\n",
    "import torch\n",
    "import torch.nn as nn\n",
    "import torch.nn.functional as F\n",
    "import torch.optim as optim"
   ]
  },
  {
   "cell_type": "code",
   "execution_count": 2,
   "metadata": {},
   "outputs": [],
   "source": [
    "device = torch.device('cpu')\n",
    "lr = 1e-1\n",
    "iters = 500\n",
    "weight_decay = 1e-3"
   ]
  },
  {
   "cell_type": "code",
   "execution_count": 9,
   "metadata": {},
   "outputs": [],
   "source": [
    "log = True"
   ]
  },
  {
   "cell_type": "code",
   "execution_count": 3,
   "metadata": {},
   "outputs": [],
   "source": [
    "class Agent:\n",
    "    def __init__(self, port: int, i, o, c, rule_sets):\n",
    "        s = socket.socket(socket.AF_INET, socket.SOCK_STREAM)\n",
    "        s.bind((\"localhost\", port))\n",
    "        s.listen()\n",
    "        self.link, _ = s.accept()\n",
    "        self.input = i\n",
    "        self.output = o\n",
    "        self.cache = c\n",
    "        self.rule_sets = rule_sets\n",
    "        self.init_output_cache()\n",
    "\n",
    "    def init_output_cache(self):\n",
    "        self.output[\"side\"] = -1\n",
    "        self.output[\"targetPos\"] = {\"x\":0, \"y\":0, \"z\":0}\n",
    "        self.output[\"targetVel\"] = 0\n",
    "        self.output[\"enableFire\"] = False\n",
    "        self.output[\"formationID\"] = 0\n",
    "        self.output[\"fireTarget\"] = 0\n",
    "        \n",
    "        self.cache[\"fireState\"] = False\n",
    "        self.cache[\"formation_position_diff\"] = {\"x\":0, \"y\":0, \"z\":0}\n",
    "        self.cache[\"id_in_formation\"] = 0\n",
    "        self.cache[\"formationIDPre\"] = 0\n",
    "\n",
    "    def send_output(self):\n",
    "        px, py, pz = self.output[\"targetPos\"][\"x\"], self.output[\"targetPos\"][\"y\"], self.output[\"targetPos\"][\"z\"]\n",
    "        side = f'<side><double>{self.output[\"side\"]}</double></side>'\n",
    "        targetPos = f'<targetPos><c><x><double>{px}</double></x><y><double>{py}</double></y><z><double>{pz}</double></z></c></targetPos>'\n",
    "        targetVel = f'<targetVel><double>{self.output[\"targetVel\"]}</double></targetVel>'\n",
    "        enableFire = f'<enableFire><bool>{1 if self.output[\"enableFire\"] else 0}<bool></enableFire>'\n",
    "        formationID = f'<formationID><uint64_t>{int(self.output[\"formationID\"])}</uint64_t></formationID>'\n",
    "        fireTarget = f'<fireTarget><uint64_t>{int(self.output[\"fireTarget\"])}</uint64_t></fireTarget>'\n",
    "        s = '<c>' + targetPos + targetVel + enableFire + formationID + fireTarget + '</c>'\n",
    "        self.send(s)\n",
    "\n",
    "    def recv_input(self):\n",
    "        s = self.recv()\n",
    "        tmp = []\n",
    "        for input in eval(s):\n",
    "            for k, v in input:\n",
    "                if k == 'carInfo':\n",
    "                    tmp.append(v)\n",
    "                else:\n",
    "                    self.input[k] = v\n",
    "        self.input['carInfo'] = tmp\n",
    "\n",
    "    def send(self, s: str):\n",
    "        if log:\n",
    "            print(f'send: {s}')\n",
    "        self.link.send(s.encode() + b'\\n')\n",
    "\n",
    "    def recv(self)->str:\n",
    "        \"\"\"will return string ends with '\\\\n'\"\"\"\n",
    "        s: bytes = b''\n",
    "        while not s.endswith(b'\\n'):\n",
    "            s = s + self.link.recv(1024)\n",
    "        if log:\n",
    "            print(f'received: {s.decode()}')\n",
    "        return s.decode()\n",
    "    \n",
    "    def tick(self):\n",
    "        # TODO:\n",
    "        self.rule_sets[0].tick()\n",
    "        self.rule_sets[0]\n",
    "        for i in range(1, len(self.rule_sets)):\n",
    "            self.rule_sets[i].tick()\n",
    "\n",
    "    def choose_action(self):\n",
    "        pass"
   ]
  },
  {
   "cell_type": "code",
   "execution_count": 4,
   "metadata": {},
   "outputs": [],
   "source": [
    "a = Agent(50023, {}, {}, {}, [])"
   ]
  },
  {
   "cell_type": "code",
   "execution_count": 8,
   "metadata": {},
   "outputs": [],
   "source": [
    "a.recv_input()"
   ]
  },
  {
   "cell_type": "code",
   "execution_count": 7,
   "metadata": {},
   "outputs": [],
   "source": [
    "a.send_output()"
   ]
  },
  {
   "cell_type": "code",
   "execution_count": 19,
   "metadata": {},
   "outputs": [
    {
     "data": {
      "text/plain": [
       "{'carInfo': []}"
      ]
     },
     "execution_count": 19,
     "metadata": {},
     "output_type": "execute_result"
    }
   ],
   "source": [
    "a.input"
   ]
  },
  {
   "cell_type": "code",
   "execution_count": null,
   "metadata": {},
   "outputs": [],
   "source": [
    "a.output[\"tar\"]"
   ]
  },
  {
   "cell_type": "code",
   "execution_count": null,
   "metadata": {},
   "outputs": [],
   "source": [
    "class Env:\n",
    "    def __init__(self, port1, port2):\n",
    "        self.agent1 = Agent(port1)\n",
    "        self.agent2 = Agent(port2)\n",
    "        self.agent1.recv_input()\n",
    "        self.agent2.recv_input()\n",
    "\n",
    "    def restart(self):\n",
    "        self.agent1.send('<c><restart><bool>1</bool></restart></c>')\n",
    "        self.agent2.send('<c><restart><bool>1</bool></restart></c>')\n",
    "        self.agent1.recv_input()\n",
    "        self.agent2.recv_input()\n",
    "\n",
    "    def start(self):\n",
    "        self.step()\n",
    "\n",
    "    def step(self):\n",
    "        self.agent1.send_output()\n",
    "        self.agent2.send_output()\n",
    "        self.agent1.recv_input()\n",
    "        self.agent2.recv_input()\n",
    "        self.agent1.tick()\n",
    "        self.agent2.tick()\n",
    "        # TODO: choose action"
   ]
  },
  {
   "cell_type": "code",
   "execution_count": 3,
   "metadata": {},
   "outputs": [
    {
     "data": {
      "text/plain": [
       "0.010184049606323242"
      ]
     },
     "execution_count": 3,
     "metadata": {},
     "output_type": "execute_result"
    }
   ],
   "source": [
    "a = 1.1\n",
    "b = 1.2\n",
    "c = a * b\n",
    "t1 = time.time()\n",
    "for _ in range(100000):\n",
    "    c = c + a * b\n",
    "t2 = time.time()\n",
    "t2 - t1"
   ]
  },
  {
   "cell_type": "code",
   "execution_count": 4,
   "metadata": {},
   "outputs": [
    {
     "data": {
      "text/plain": [
       "(0.6119277477264404, 0.8815679550170898)"
      ]
     },
     "execution_count": 4,
     "metadata": {},
     "output_type": "execute_result"
    }
   ],
   "source": [
    "a = torch.tensor(1.1, device=device, requires_grad=True)\n",
    "b = torch.tensor(1.2, device=device, requires_grad=True)\n",
    "c = a * b\n",
    "t1 = time.time()\n",
    "for _ in range(100000):\n",
    "    c = c + a * b\n",
    "t2 = time.time()\n",
    "c.backward()\n",
    "t3 = time.time()\n",
    "t2 - t1, t3 - t2"
   ]
  },
  {
   "cell_type": "code",
   "execution_count": 32,
   "metadata": {},
   "outputs": [
    {
     "data": {
      "text/plain": [
       "tensor([[1.]])"
      ]
     },
     "execution_count": 32,
     "metadata": {},
     "output_type": "execute_result"
    }
   ],
   "source": [
    "a = torch.tensor([[1.1]], device=device, requires_grad=True)\n",
    "b = torch.tensor([[1.2]], device=device, requires_grad=True)\n",
    "c = torch.concat((a, b))\n",
    "d = torch.tensor([[1., 1.]], device=device).matmul(c)\n",
    "d.backward()\n",
    "a.grad"
   ]
  },
  {
   "cell_type": "code",
   "execution_count": null,
   "metadata": {},
   "outputs": [],
   "source": []
  },
  {
   "cell_type": "code",
   "execution_count": 3,
   "metadata": {},
   "outputs": [],
   "source": [
    "class SimpleEnv:\n",
    "    def __init__(self):\n",
    "        self.reset()\n",
    "\n",
    "    def reset(self):\n",
    "        self.times = 0\n",
    "        return (0, 0)\n",
    "    \n",
    "    def step(self, action):\n",
    "        a_a, a_b = action\n",
    "        self.times += 1\n",
    "        done = self.times == 10\n",
    "        if a_a == a_b:return (0, 0), (0, 0), done, ''\n",
    "        if (a_a + 1) % 3 == a_b:return (0, 0), (1, -1), done, ''\n",
    "        return (0, 0), (-1, 1), done, ''"
   ]
  },
  {
   "cell_type": "code",
   "execution_count": 4,
   "metadata": {},
   "outputs": [],
   "source": [
    "class MixAgent(torch.nn.Module):\n",
    "    def __init__(self, agents, prob) -> None:\n",
    "        super().__init__()\n",
    "        self.agents = agents\n",
    "        self.prob = prob\n",
    "        self.used: torch.nn.Module = None\n",
    "\n",
    "    def pick(self) -> None:\n",
    "        self.used = random.choices(self.agents, k=1, weights=self.prob)[0]\n",
    "\n",
    "    def forward(self, x):\n",
    "        return self.used.forward(x)"
   ]
  },
  {
   "cell_type": "code",
   "execution_count": 5,
   "metadata": {},
   "outputs": [],
   "source": [
    "def get_agent():\n",
    "    return nn.Sequential(\n",
    "        nn.Linear(1, 4, device=device),\n",
    "        nn.ReLU(),\n",
    "        nn.Linear(4, 3, device=device),\n",
    "        nn.Softmax(),\n",
    "    )"
   ]
  },
  {
   "cell_type": "code",
   "execution_count": 6,
   "metadata": {},
   "outputs": [],
   "source": [
    "def get_advantage(a1, a2, env, iters):\n",
    "    r = 0\n",
    "    for _ in range(iters):\n",
    "        s1, s2 = env.reset()\n",
    "        done = False\n",
    "        while not done:\n",
    "            act1, act2 = 0, 0\n",
    "            with torch.no_grad():\n",
    "                p1 = a1(torch.Tensor([float(s1)])).numpy()\n",
    "                act1 = np.random.choice(p1.shape[0], p=p1)\n",
    "                p2 = a2(torch.Tensor([float(s2)])).numpy()\n",
    "                act2 = np.random.choice(p2.shape[0], p=p2)\n",
    "            next_state, reward, done, _ = env.step((act1, act2))\n",
    "            r += reward[0]\n",
    "            s1, s2 = next_state\n",
    "    return r / iters\n"
   ]
  },
  {
   "cell_type": "code",
   "execution_count": 7,
   "metadata": {},
   "outputs": [],
   "source": [
    "class FakeAgent(nn.Module):\n",
    "    def forward(self, x):\n",
    "        return torch.Tensor([1/3, 1/3, 1/3])"
   ]
  },
  {
   "cell_type": "code",
   "execution_count": 8,
   "metadata": {},
   "outputs": [
    {
     "data": {
      "text/plain": [
       "-1.0"
      ]
     },
     "execution_count": 8,
     "metadata": {},
     "output_type": "execute_result"
    }
   ],
   "source": [
    "get_advantage(FakeAgent(), FakeAgent(), SimpleEnv(), 1)"
   ]
  },
  {
   "cell_type": "code",
   "execution_count": 9,
   "metadata": {},
   "outputs": [],
   "source": [
    "class PSRO_2side:\n",
    "    def __init__(self):\n",
    "        self.agents = [[], []]\n",
    "        self.matrix = []\n",
    "        self.prob = [None, None]\n",
    "\n",
    "    def get_agent(self):\n",
    "        return [MixAgent(a, p) for a, p in zip(self.agents, self.prob)]\n",
    "    \n",
    "    def add_agent(self, a1, a2, func):\n",
    "        l = len(self.matrix)\n",
    "        self.agents[0].append(a1)\n",
    "        self.agents[1].append(a2)\n",
    "        self.matrix = [i+[func(self.agents[0][ind], a2)] for ind, i in enumerate(self.matrix)]\n",
    "        self.matrix.append([func(a1, self.agents[1][i]) for i in range(l+1)])\n",
    "        self.solve_meta()\n",
    "\n",
    "    def solve_meta(self):\n",
    "        game = nash.Game(np.array(self.matrix))\n",
    "        ans = next(game.support_enumeration(), None)\n",
    "        if ans is None:\n",
    "            ans = next(game.vertex_enumeration(), None)\n",
    "        self.prob = list(map(lambda x:x.tolist(), ans))"
   ]
  },
  {
   "cell_type": "code",
   "execution_count": 10,
   "metadata": {},
   "outputs": [],
   "source": [
    "def train_step(act_freeze, act_target, opt, env, iters):\n",
    "    his = []\n",
    "    for _ in range(iters):\n",
    "        s1, s2 = env.reset()\n",
    "        done = False\n",
    "        r = 0\n",
    "        target = 0\n",
    "        act_freeze.pick()\n",
    "        while not done:\n",
    "            act1, act2 = 0, 0\n",
    "            with torch.no_grad():\n",
    "                p1 = act_freeze(torch.Tensor([float(s1)])).numpy()\n",
    "                act1 = np.random.choice(p1.shape[0], p=p1)\n",
    "            p2 = act_target(torch.Tensor([float(s2)]))\n",
    "            act2 = np.random.choice(p2.shape[0], p=p2.detach().numpy())\n",
    "            # print(p1, p2, act1, act2)\n",
    "            next_state, reward, done, info = env.step((act1, act2))\n",
    "            r += reward[1]\n",
    "            target += -reward[1] * p2[act2]\n",
    "            s1, s2 = next_state\n",
    "        opt.zero_grad()\n",
    "        target.backward()\n",
    "        opt.step()\n",
    "        his.append(r)\n",
    "    return his\n",
    "\n",
    "def policy_grad_train(env, psro: PSRO_2side, iters: int):\n",
    "    a1, a2 = get_agent(), get_agent()\n",
    "    opt1 = optim.AdamW(a1.parameters(), lr=lr, amsgrad=True, weight_decay=weight_decay)\n",
    "    opt2 = optim.AdamW(a2.parameters(), lr=lr, amsgrad=True, weight_decay=weight_decay)\n",
    "    a1_, a2_ = psro.get_agent()\n",
    "    size = len(psro.agents[0]) + 1\n",
    "    his = train_step(a2_, a1, opt1, env, iters * size), train_step(a1_, a2, opt2, env, iters * size)\n",
    "    psro.add_agent(a1, a2, lambda a1, a2: get_advantage(a1, a2, env, iters))\n",
    "    return his"
   ]
  },
  {
   "cell_type": "code",
   "execution_count": 11,
   "metadata": {},
   "outputs": [
    {
     "name": "stderr",
     "output_type": "stream",
     "text": [
      "d:\\Miniconda3\\envs\\torch-cpu\\Lib\\site-packages\\torch\\nn\\modules\\module.py:1518: UserWarning: Implicit dimension choice for softmax has been deprecated. Change the call to include dim=X as an argument.\n",
      "  return self._call_impl(*args, **kwargs)\n"
     ]
    }
   ],
   "source": [
    "env, psro = SimpleEnv(), PSRO_2side()\n",
    "psro.add_agent(get_agent(), get_agent(), lambda a1, a2: get_advantage(a1, a2, env, iters))"
   ]
  },
  {
   "cell_type": "code",
   "execution_count": 12,
   "metadata": {},
   "outputs": [],
   "source": [
    "# _ = policy_grad_train(env, psro, iters)"
   ]
  },
  {
   "cell_type": "code",
   "execution_count": 13,
   "metadata": {},
   "outputs": [
    {
     "name": "stderr",
     "output_type": "stream",
     "text": [
      "d:\\Miniconda3\\envs\\torch-cpu\\Lib\\site-packages\\torch\\nn\\modules\\module.py:1518: UserWarning: Implicit dimension choice for softmax has been deprecated. Change the call to include dim=X as an argument.\n",
      "  return self._call_impl(*args, **kwargs)\n"
     ]
    },
    {
     "name": "stdout",
     "output_type": "stream",
     "text": [
      "tensor([2.1996e-05, 3.5317e-06, 9.9997e-01], grad_fn=<AddBackward0>) tensor([0.5388, 0.2401, 0.2211], grad_fn=<AddBackward0>)\n"
     ]
    },
    {
     "name": "stderr",
     "output_type": "stream",
     "text": [
      "d:\\Miniconda3\\envs\\torch-cpu\\Lib\\site-packages\\nashpy\\algorithms\\support_enumeration.py:259: RuntimeWarning: \n",
      "An even number of (0) equilibria was returned. This\n",
      "indicates that the game is degenerate. Consider using another algorithm\n",
      "to investigate.\n",
      "                  \n",
      "  warnings.warn(warning, RuntimeWarning)\n"
     ]
    },
    {
     "name": "stdout",
     "output_type": "stream",
     "text": [
      "tensor([0.2852, 0.3761, 0.3387], grad_fn=<AddBackward0>) tensor([4.7664e-01, 5.2336e-01, 7.2774e-06], grad_fn=<AddBackward0>)\n",
      "tensor([5.6806e-01, 4.4243e-05, 4.3190e-01], grad_fn=<AddBackward0>) tensor([0.4699, 0.3372, 0.1929], grad_fn=<AddBackward0>)\n",
      "tensor([0.3315, 0.3304, 0.3381], grad_fn=<AddBackward0>) tensor([0.3328, 0.3333, 0.3339], grad_fn=<AddBackward0>)\n",
      "tensor([0.3334, 0.3333, 0.3333], grad_fn=<AddBackward0>) tensor([0.3332, 0.3333, 0.3334], grad_fn=<AddBackward0>)\n",
      "tensor([0.3334, 0.3333, 0.3332], grad_fn=<AddBackward0>) tensor([0.3326, 0.3336, 0.3339], grad_fn=<AddBackward0>)\n",
      "tensor([0.3331, 0.3337, 0.3332], grad_fn=<AddBackward0>) tensor([0.3320, 0.3335, 0.3345], grad_fn=<AddBackward0>)\n",
      "tensor([0.3336, 0.3328, 0.3336], grad_fn=<AddBackward0>) tensor([0.3331, 0.3333, 0.3336], grad_fn=<AddBackward0>)\n",
      "tensor([0.3336, 0.3328, 0.3336], grad_fn=<AddBackward0>) tensor([0.3331, 0.3333, 0.3336], grad_fn=<AddBackward0>)\n"
     ]
    },
    {
     "ename": "KeyboardInterrupt",
     "evalue": "",
     "output_type": "error",
     "traceback": [
      "\u001b[1;31m---------------------------------------------------------------------------\u001b[0m",
      "\u001b[1;31mKeyboardInterrupt\u001b[0m                         Traceback (most recent call last)",
      "Cell \u001b[1;32mIn[13], line 2\u001b[0m\n\u001b[0;32m      1\u001b[0m \u001b[38;5;28;01mfor\u001b[39;00m _ \u001b[38;5;129;01min\u001b[39;00m \u001b[38;5;28mrange\u001b[39m(\u001b[38;5;241m10\u001b[39m):\n\u001b[1;32m----> 2\u001b[0m     policy_grad_train(env, psro, iters)\n\u001b[0;32m      3\u001b[0m     \u001b[38;5;28mprint\u001b[39m(\u001b[38;5;28msum\u001b[39m(i(torch\u001b[38;5;241m.\u001b[39mTensor([\u001b[38;5;241m0.\u001b[39m])) \u001b[38;5;241m*\u001b[39m j \u001b[38;5;28;01mfor\u001b[39;00m i, j \u001b[38;5;129;01min\u001b[39;00m \u001b[38;5;28mzip\u001b[39m(psro\u001b[38;5;241m.\u001b[39magents[\u001b[38;5;241m0\u001b[39m], psro\u001b[38;5;241m.\u001b[39mprob[\u001b[38;5;241m0\u001b[39m])),\n\u001b[0;32m      4\u001b[0m         \u001b[38;5;28msum\u001b[39m(i(torch\u001b[38;5;241m.\u001b[39mTensor([\u001b[38;5;241m0.\u001b[39m])) \u001b[38;5;241m*\u001b[39m j \u001b[38;5;28;01mfor\u001b[39;00m i, j \u001b[38;5;129;01min\u001b[39;00m \u001b[38;5;28mzip\u001b[39m(psro\u001b[38;5;241m.\u001b[39magents[\u001b[38;5;241m1\u001b[39m], psro\u001b[38;5;241m.\u001b[39mprob[\u001b[38;5;241m1\u001b[39m])))\n",
      "Cell \u001b[1;32mIn[10], line 34\u001b[0m, in \u001b[0;36mpolicy_grad_train\u001b[1;34m(env, psro, iters)\u001b[0m\n\u001b[0;32m     32\u001b[0m size \u001b[38;5;241m=\u001b[39m \u001b[38;5;28mlen\u001b[39m(psro\u001b[38;5;241m.\u001b[39magents[\u001b[38;5;241m0\u001b[39m]) \u001b[38;5;241m+\u001b[39m \u001b[38;5;241m1\u001b[39m\n\u001b[0;32m     33\u001b[0m his \u001b[38;5;241m=\u001b[39m train_step(a2_, a1, opt1, env, iters \u001b[38;5;241m*\u001b[39m size), train_step(a1_, a2, opt2, env, iters \u001b[38;5;241m*\u001b[39m size)\n\u001b[1;32m---> 34\u001b[0m psro\u001b[38;5;241m.\u001b[39madd_agent(a1, a2, \u001b[38;5;28;01mlambda\u001b[39;00m a1, a2: get_advantage(a1, a2, env, iters))\n\u001b[0;32m     35\u001b[0m \u001b[38;5;28;01mreturn\u001b[39;00m his\n",
      "Cell \u001b[1;32mIn[9], line 16\u001b[0m, in \u001b[0;36mPSRO_2side.add_agent\u001b[1;34m(self, a1, a2, func)\u001b[0m\n\u001b[0;32m     14\u001b[0m \u001b[38;5;28mself\u001b[39m\u001b[38;5;241m.\u001b[39mmatrix \u001b[38;5;241m=\u001b[39m [i\u001b[38;5;241m+\u001b[39m[func(\u001b[38;5;28mself\u001b[39m\u001b[38;5;241m.\u001b[39magents[\u001b[38;5;241m0\u001b[39m][ind], a2)] \u001b[38;5;28;01mfor\u001b[39;00m ind, i \u001b[38;5;129;01min\u001b[39;00m \u001b[38;5;28menumerate\u001b[39m(\u001b[38;5;28mself\u001b[39m\u001b[38;5;241m.\u001b[39mmatrix)]\n\u001b[0;32m     15\u001b[0m \u001b[38;5;28mself\u001b[39m\u001b[38;5;241m.\u001b[39mmatrix\u001b[38;5;241m.\u001b[39mappend([func(a1, \u001b[38;5;28mself\u001b[39m\u001b[38;5;241m.\u001b[39magents[\u001b[38;5;241m1\u001b[39m][i]) \u001b[38;5;28;01mfor\u001b[39;00m i \u001b[38;5;129;01min\u001b[39;00m \u001b[38;5;28mrange\u001b[39m(l\u001b[38;5;241m+\u001b[39m\u001b[38;5;241m1\u001b[39m)])\n\u001b[1;32m---> 16\u001b[0m \u001b[38;5;28mself\u001b[39m\u001b[38;5;241m.\u001b[39msolve_meta()\n",
      "Cell \u001b[1;32mIn[9], line 20\u001b[0m, in \u001b[0;36mPSRO_2side.solve_meta\u001b[1;34m(self)\u001b[0m\n\u001b[0;32m     18\u001b[0m \u001b[38;5;28;01mdef\u001b[39;00m \u001b[38;5;21msolve_meta\u001b[39m(\u001b[38;5;28mself\u001b[39m):\n\u001b[0;32m     19\u001b[0m     game \u001b[38;5;241m=\u001b[39m nash\u001b[38;5;241m.\u001b[39mGame(np\u001b[38;5;241m.\u001b[39marray(\u001b[38;5;28mself\u001b[39m\u001b[38;5;241m.\u001b[39mmatrix))\n\u001b[1;32m---> 20\u001b[0m     ans \u001b[38;5;241m=\u001b[39m \u001b[38;5;28mnext\u001b[39m(game\u001b[38;5;241m.\u001b[39msupport_enumeration(), \u001b[38;5;28;01mNone\u001b[39;00m)\n\u001b[0;32m     21\u001b[0m     \u001b[38;5;28;01mif\u001b[39;00m ans \u001b[38;5;129;01mis\u001b[39;00m \u001b[38;5;28;01mNone\u001b[39;00m:\n\u001b[0;32m     22\u001b[0m         ans \u001b[38;5;241m=\u001b[39m \u001b[38;5;28mnext\u001b[39m(game\u001b[38;5;241m.\u001b[39mvertex_enumeration(), \u001b[38;5;28;01mNone\u001b[39;00m)\n",
      "File \u001b[1;32md:\\Miniconda3\\envs\\torch-cpu\\Lib\\site-packages\\nashpy\\algorithms\\support_enumeration.py:245\u001b[0m, in \u001b[0;36msupport_enumeration\u001b[1;34m(A, B, non_degenerate, tol)\u001b[0m\n\u001b[0;32m    217\u001b[0m \u001b[38;5;250m\u001b[39m\u001b[38;5;124;03m\"\"\"\u001b[39;00m\n\u001b[0;32m    218\u001b[0m \u001b[38;5;124;03mObtain the Nash equilibria using support enumeration.\u001b[39;00m\n\u001b[0;32m    219\u001b[0m \n\u001b[1;32m   (...)\u001b[0m\n\u001b[0;32m    242\u001b[0m \u001b[38;5;124;03m    The equilibria.\u001b[39;00m\n\u001b[0;32m    243\u001b[0m \u001b[38;5;124;03m\"\"\"\u001b[39;00m\n\u001b[0;32m    244\u001b[0m count \u001b[38;5;241m=\u001b[39m \u001b[38;5;241m0\u001b[39m\n\u001b[1;32m--> 245\u001b[0m \u001b[38;5;28;01mfor\u001b[39;00m s1, s2, sup1, sup2 \u001b[38;5;129;01min\u001b[39;00m indifference_strategies(\n\u001b[0;32m    246\u001b[0m     A, B, non_degenerate\u001b[38;5;241m=\u001b[39mnon_degenerate, tol\u001b[38;5;241m=\u001b[39mtol\n\u001b[0;32m    247\u001b[0m ):\n\u001b[0;32m    248\u001b[0m     \u001b[38;5;28;01mif\u001b[39;00m is_ne((s1, s2), (sup1, sup2), (A, B)):\n\u001b[0;32m    249\u001b[0m         count \u001b[38;5;241m+\u001b[39m\u001b[38;5;241m=\u001b[39m \u001b[38;5;241m1\u001b[39m\n",
      "File \u001b[1;32md:\\Miniconda3\\envs\\torch-cpu\\Lib\\site-packages\\nashpy\\algorithms\\support_enumeration.py:140\u001b[0m, in \u001b[0;36mindifference_strategies\u001b[1;34m(A, B, non_degenerate, tol)\u001b[0m\n\u001b[0;32m    138\u001b[0m \u001b[38;5;28;01mfor\u001b[39;00m pair \u001b[38;5;129;01min\u001b[39;00m potential_support_pairs(A, B, non_degenerate\u001b[38;5;241m=\u001b[39mnon_degenerate):\n\u001b[0;32m    139\u001b[0m     s1 \u001b[38;5;241m=\u001b[39m solve_indifference(B\u001b[38;5;241m.\u001b[39mT, \u001b[38;5;241m*\u001b[39m(pair[::\u001b[38;5;241m-\u001b[39m\u001b[38;5;241m1\u001b[39m]))\n\u001b[1;32m--> 140\u001b[0m     s2 \u001b[38;5;241m=\u001b[39m solve_indifference(A, \u001b[38;5;241m*\u001b[39mpair)\n\u001b[0;32m    142\u001b[0m     \u001b[38;5;28;01mif\u001b[39;00m obey_support(s1, pair[\u001b[38;5;241m0\u001b[39m], tol\u001b[38;5;241m=\u001b[39mtol) \u001b[38;5;129;01mand\u001b[39;00m obey_support(s2, pair[\u001b[38;5;241m1\u001b[39m], tol\u001b[38;5;241m=\u001b[39mtol):\n\u001b[0;32m    143\u001b[0m         \u001b[38;5;28;01myield\u001b[39;00m s1, s2, pair[\u001b[38;5;241m0\u001b[39m], pair[\u001b[38;5;241m1\u001b[39m]\n",
      "File \u001b[1;32md:\\Miniconda3\\envs\\torch-cpu\\Lib\\site-packages\\nashpy\\algorithms\\support_enumeration.py:54\u001b[0m, in \u001b[0;36msolve_indifference\u001b[1;34m(A, rows, columns)\u001b[0m\n\u001b[0;32m     32\u001b[0m \u001b[38;5;250m\u001b[39m\u001b[38;5;124;03m\"\"\"\u001b[39;00m\n\u001b[0;32m     33\u001b[0m \u001b[38;5;124;03mSolve the indifference for a payoff matrix assuming support for the\u001b[39;00m\n\u001b[0;32m     34\u001b[0m \u001b[38;5;124;03mstrategies given by columns\u001b[39;00m\n\u001b[1;32m   (...)\u001b[0m\n\u001b[0;32m     51\u001b[0m \u001b[38;5;124;03m    The solution to the indifference equations.\u001b[39;00m\n\u001b[0;32m     52\u001b[0m \u001b[38;5;124;03m\"\"\"\u001b[39;00m\n\u001b[0;32m     53\u001b[0m \u001b[38;5;66;03m# Ensure differences between pairs of pure strategies are the same\u001b[39;00m\n\u001b[1;32m---> 54\u001b[0m M \u001b[38;5;241m=\u001b[39m (A[np\u001b[38;5;241m.\u001b[39marray(rows)] \u001b[38;5;241m-\u001b[39m np\u001b[38;5;241m.\u001b[39mroll(A[np\u001b[38;5;241m.\u001b[39marray(rows)], \u001b[38;5;241m1\u001b[39m, axis\u001b[38;5;241m=\u001b[39m\u001b[38;5;241m0\u001b[39m))[:\u001b[38;5;241m-\u001b[39m\u001b[38;5;241m1\u001b[39m]\n\u001b[0;32m     55\u001b[0m \u001b[38;5;66;03m# Columns that must be played with prob 0\u001b[39;00m\n\u001b[0;32m     56\u001b[0m zero_columns \u001b[38;5;241m=\u001b[39m \u001b[38;5;28mset\u001b[39m(\u001b[38;5;28mrange\u001b[39m(A\u001b[38;5;241m.\u001b[39mshape[\u001b[38;5;241m1\u001b[39m])) \u001b[38;5;241m-\u001b[39m \u001b[38;5;28mset\u001b[39m(columns)\n",
      "File \u001b[1;32md:\\Miniconda3\\envs\\torch-cpu\\Lib\\site-packages\\numpy\\core\\numeric.py:1125\u001b[0m, in \u001b[0;36m_roll_dispatcher\u001b[1;34m(a, shift, axis)\u001b[0m\n\u001b[0;32m   1121\u001b[0m     res \u001b[38;5;241m=\u001b[39m dot(at, bt)\n\u001b[0;32m   1122\u001b[0m     \u001b[38;5;28;01mreturn\u001b[39;00m res\u001b[38;5;241m.\u001b[39mreshape(olda \u001b[38;5;241m+\u001b[39m oldb)\n\u001b[1;32m-> 1125\u001b[0m \u001b[38;5;28;01mdef\u001b[39;00m \u001b[38;5;21m_roll_dispatcher\u001b[39m(a, shift, axis\u001b[38;5;241m=\u001b[39m\u001b[38;5;28;01mNone\u001b[39;00m):\n\u001b[0;32m   1126\u001b[0m     \u001b[38;5;28;01mreturn\u001b[39;00m (a,)\n\u001b[0;32m   1129\u001b[0m \u001b[38;5;129m@array_function_dispatch\u001b[39m(_roll_dispatcher)\n\u001b[0;32m   1130\u001b[0m \u001b[38;5;28;01mdef\u001b[39;00m \u001b[38;5;21mroll\u001b[39m(a, shift, axis\u001b[38;5;241m=\u001b[39m\u001b[38;5;28;01mNone\u001b[39;00m):\n",
      "\u001b[1;31mKeyboardInterrupt\u001b[0m: "
     ]
    }
   ],
   "source": [
    "for _ in range(10):\n",
    "    policy_grad_train(env, psro, iters)\n",
    "    print(sum(i(torch.Tensor([0.])) * j for i, j in zip(psro.agents[0], psro.prob[0])),\n",
    "        sum(i(torch.Tensor([0.])) * j for i, j in zip(psro.agents[1], psro.prob[1])))"
   ]
  },
  {
   "cell_type": "code",
   "execution_count": 26,
   "metadata": {},
   "outputs": [
    {
     "data": {
      "text/plain": [
       "<matplotlib.colorbar.Colorbar at 0x1e27c3f2590>"
      ]
     },
     "execution_count": 26,
     "metadata": {},
     "output_type": "execute_result"
    },
    {
     "data": {
      "image/png": "[encoded data removed]",
      "text/plain": [
       "<Figure size 640x480 with 2 Axes>"
      ]
     },
     "metadata": {},
     "output_type": "display_data"
    }
   ],
   "source": [
    "plt.imshow(psro.matrix)\n",
    "plt.colorbar()"
   ]
  },
  {
   "cell_type": "code",
   "execution_count": 24,
   "metadata": {},
   "outputs": [
    {
     "data": {
      "text/plain": [
       "[[-0.982,\n",
       "  -3.424,\n",
       "  2.226,\n",
       "  -3.176,\n",
       "  1.174,\n",
       "  1.09,\n",
       "  2.088,\n",
       "  1.088,\n",
       "  -3.282,\n",
       "  1.148,\n",
       "  -3.166],\n",
       " [2.998, 10.0, -10.0, 9.96, 0.0, 0.2, -10.0, 0.07, 9.996, 0.0, 9.998],\n",
       " [3.024,\n",
       "  9.994,\n",
       "  -9.996,\n",
       "  9.978,\n",
       "  0.0,\n",
       "  0.206,\n",
       "  -9.986,\n",
       "  0.074,\n",
       "  9.978,\n",
       "  -0.002,\n",
       "  9.992],\n",
       " [0.096, 0.0, 10.0, 0.01, -10.0, -8.51, 9.998, -9.59, 0.0, -9.994, 0.002],\n",
       " [0.302, 0.0, 10.0, 0.006, -10.0, -8.426, 10.0, -9.582, -0.002, -9.996, 0.002],\n",
       " [-3.168,\n",
       "  -9.926,\n",
       "  -0.004,\n",
       "  -9.928,\n",
       "  9.924,\n",
       "  8.222,\n",
       "  -0.014,\n",
       "  9.414,\n",
       "  -9.916,\n",
       "  9.924,\n",
       "  -9.95],\n",
       " [0.128,\n",
       "  0.01,\n",
       "  9.996,\n",
       "  0.014,\n",
       "  -9.988,\n",
       "  -8.39,\n",
       "  9.994,\n",
       "  -9.58,\n",
       "  -0.004,\n",
       "  -9.98,\n",
       "  -0.002],\n",
       " [3.05, 9.998, -9.998, 9.958, 0.0, 0.242, -9.994, 0.056, 9.994, -0.01, 9.992],\n",
       " [-3.228,\n",
       "  -9.824,\n",
       "  -0.008,\n",
       "  -9.806,\n",
       "  9.852,\n",
       "  8.104,\n",
       "  -0.008,\n",
       "  9.378,\n",
       "  -9.852,\n",
       "  9.862,\n",
       "  -9.828],\n",
       " [0.144, 0.0, 9.8, 0.02, -9.752, -8.346, 9.76, -9.47, -0.012, -9.754, -0.004],\n",
       " [0.35,\n",
       "  -0.124,\n",
       "  9.804,\n",
       "  -0.062,\n",
       "  -9.682,\n",
       "  -8.238,\n",
       "  9.782,\n",
       "  -9.228,\n",
       "  -0.124,\n",
       "  -9.672,\n",
       "  -0.096]]"
      ]
     },
     "execution_count": 24,
     "metadata": {},
     "output_type": "execute_result"
    }
   ],
   "source": [
    "psro.matrix"
   ]
  },
  {
   "cell_type": "code",
   "execution_count": 29,
   "metadata": {},
   "outputs": [
    {
     "data": {
      "image/png": "[encoded data removed]",
      "text/plain": [
       "<Figure size 640x480 with 4 Axes>"
      ]
     },
     "metadata": {},
     "output_type": "display_data"
    }
   ],
   "source": [
    "plt.subplot(2, 2, 1)\n",
    "plt.pie([0.5388, 0.2401, 0.2211])\n",
    "plt.ylim(0, 0.7)\n",
    "plt.title('1')\n",
    "plt.subplot(2, 2, 2)\n",
    "plt.pie([4.7664e-01, 5.2336e-01, 7.2774e-06])\n",
    "plt.ylim(0, 0.7)\n",
    "plt.title('2')\n",
    "plt.subplot(2, 2, 3)\n",
    "plt.pie([0.4699, 0.3372, 0.1929])\n",
    "plt.ylim(0, 0.7)\n",
    "plt.title('3')\n",
    "plt.subplot(2, 2, 4)\n",
    "plt.pie([0.3328, 0.3333, 0.3339])\n",
    "plt.ylim(0, 0.7)\n",
    "plt.title('4')\n",
    "plt.tight_layout()"
   ]
  },
  {
   "cell_type": "code",
   "execution_count": 15,
   "metadata": {},
   "outputs": [
    {
     "data": {
      "text/plain": [
       "([[-0.982,\n",
       "   -3.424,\n",
       "   2.226,\n",
       "   -3.176,\n",
       "   1.174,\n",
       "   1.09,\n",
       "   2.088,\n",
       "   1.088,\n",
       "   -3.282,\n",
       "   1.148,\n",
       "   -3.166],\n",
       "  [2.998, 10.0, -10.0, 9.96, 0.0, 0.2, -10.0, 0.07, 9.996, 0.0, 9.998],\n",
       "  [3.024,\n",
       "   9.994,\n",
       "   -9.996,\n",
       "   9.978,\n",
       "   0.0,\n",
       "   0.206,\n",
       "   -9.986,\n",
       "   0.074,\n",
       "   9.978,\n",
       "   -0.002,\n",
       "   9.992],\n",
       "  [0.096, 0.0, 10.0, 0.01, -10.0, -8.51, 9.998, -9.59, 0.0, -9.994, 0.002],\n",
       "  [0.302,\n",
       "   0.0,\n",
       "   10.0,\n",
       "   0.006,\n",
       "   -10.0,\n",
       "   -8.426,\n",
       "   10.0,\n",
       "   -9.582,\n",
       "   -0.002,\n",
       "   -9.996,\n",
       "   0.002],\n",
       "  [-3.168,\n",
       "   -9.926,\n",
       "   -0.004,\n",
       "   -9.928,\n",
       "   9.924,\n",
       "   8.222,\n",
       "   -0.014,\n",
       "   9.414,\n",
       "   -9.916,\n",
       "   9.924,\n",
       "   -9.95],\n",
       "  [0.128,\n",
       "   0.01,\n",
       "   9.996,\n",
       "   0.014,\n",
       "   -9.988,\n",
       "   -8.39,\n",
       "   9.994,\n",
       "   -9.58,\n",
       "   -0.004,\n",
       "   -9.98,\n",
       "   -0.002],\n",
       "  [3.05, 9.998, -9.998, 9.958, 0.0, 0.242, -9.994, 0.056, 9.994, -0.01, 9.992],\n",
       "  [-3.228,\n",
       "   -9.824,\n",
       "   -0.008,\n",
       "   -9.806,\n",
       "   9.852,\n",
       "   8.104,\n",
       "   -0.008,\n",
       "   9.378,\n",
       "   -9.852,\n",
       "   9.862,\n",
       "   -9.828],\n",
       "  [0.144, 0.0, 9.8, 0.02, -9.752, -8.346, 9.76, -9.47, -0.012, -9.754, -0.004],\n",
       "  [0.35,\n",
       "   -0.124,\n",
       "   9.804,\n",
       "   -0.062,\n",
       "   -9.682,\n",
       "   -8.238,\n",
       "   9.782,\n",
       "   -9.228,\n",
       "   -0.124,\n",
       "   -9.672,\n",
       "   -0.096]],\n",
       " [[0.0018269943289195415,\n",
       "   0.22504229905315254,\n",
       "   1.734951167630973e-17,\n",
       "   1.734951167630973e-17,\n",
       "   0.24450211493342597,\n",
       "   1.734951167630973e-17,\n",
       "   0.08663089598113205,\n",
       "   0.10634675233866034,\n",
       "   0.3356509433647094,\n",
       "   1.734951167630973e-17],\n",
       "  [0.0031000098457284633,\n",
       "   -1.7344957843226412e-17,\n",
       "   0.04656744349478496,\n",
       "   -4.336239460806603e-17,\n",
       "   0.2423857774828954,\n",
       "   -4.336239460806603e-17,\n",
       "   0.28490869338345215,\n",
       "   0.09314261730665743,\n",
       "   0.32989545848648183,\n",
       "   -1.7344957843226412e-17]])"
      ]
     },
     "execution_count": 15,
     "metadata": {},
     "output_type": "execute_result"
    }
   ],
   "source": [
    "psro.matrix, psro.prob"
   ]
  },
  {
   "cell_type": "code",
   "execution_count": null,
   "metadata": {},
   "outputs": [],
   "source": []
  }
 ],
 "metadata": {
  "kernelspec": {
   "display_name": "Python 3.10.11 ('base')",
   "language": "python",
   "name": "python3"
  },
  "language_info": {
   "codemirror_mode": {
    "name": "ipython",
    "version": 3
   },
   "file_extension": ".py",
   "mimetype": "text/x-python",
   "name": "python",
   "nbconvert_exporter": "python",
   "pygments_lexer": "ipython3",
   "version": "3.10.13"
  },
  "vscode": {
   "interpreter": {
    "hash": "820d776940a02930c69820a8cec178404e4e9e60b6116e2717a21913b50566a0"
   }
  }
 },
 "nbformat": 4,
 "nbformat_minor": 2
}
